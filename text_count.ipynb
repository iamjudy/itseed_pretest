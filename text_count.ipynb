{
 "cells": [
  {
   "cell_type": "code",
   "execution_count": null,
   "metadata": {
    "scrolled": false
   },
   "outputs": [
    {
     "name": "stdout",
     "output_type": "stream",
     "text": [
      "輸入單字，統計在文本中出現的字數：taiwan\n",
      "19\n",
      "輸入單字，統計在文本中出現的字數：to\n",
      "16\n",
      "輸入單字，統計在文本中出現的字數：many\n",
      "1\n",
      "輸入單字，統計在文本中出現的字數：haha\n",
      "這個字沒有出現！\n"
     ]
    }
   ],
   "source": [
    "import re\n",
    "\n",
    "file_name = \"/Users/chanchu-ting/Desktop/python_data/text.txt\"\n",
    "\n",
    "word_count = 0\n",
    "lines_count = 0\n",
    "dict = {}\n",
    "lines_list = []\n",
    "\n",
    "with open(file_name, 'r', encoding=\"utf-8\") as f:\n",
    "    for line in f:\n",
    "        lines_count = lines_count + 1\n",
    "        match = re.findall(r'[^a-zA-Z0-9]+', line)\n",
    "        for i in match:\n",
    "            # 只留下英文單字\n",
    "            line = line.replace(i, ' ')\n",
    "        lines_list = line.split()\n",
    "        for i in lines_list:\n",
    "            i = i.lower()\n",
    "            if i not in dict:\n",
    "                dict[i] = 1\n",
    "            else:\n",
    "                dict[i] = dict[i] + 1\n",
    "\n",
    "while True:    \n",
    "    str = input('輸入單字，統計在文本中出現的字數：')\n",
    "    str2 = str.lower()\n",
    "    #print(dict[str2])\n",
    "\n",
    "    if str2 in dict:\n",
    "        print(dict[str2])\n",
    "    else:\n",
    "        print('這個字沒有出現！')"
   ]
  },
  {
   "cell_type": "code",
   "execution_count": null,
   "metadata": {},
   "outputs": [],
   "source": []
  }
 ],
 "metadata": {
  "kernelspec": {
   "display_name": "Python 3",
   "language": "python",
   "name": "python3"
  },
  "language_info": {
   "codemirror_mode": {
    "name": "ipython",
    "version": 3
   },
   "file_extension": ".py",
   "mimetype": "text/x-python",
   "name": "python",
   "nbconvert_exporter": "python",
   "pygments_lexer": "ipython3",
   "version": "3.8.3"
  }
 },
 "nbformat": 4,
 "nbformat_minor": 4
}
